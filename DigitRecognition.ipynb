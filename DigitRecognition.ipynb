{
  "nbformat": 4,
  "nbformat_minor": 0,
  "metadata": {
    "colab": {
      "name": "DigitRecognition.ipynb",
      "provenance": [],
      "authorship_tag": "ABX9TyNKolW1YrddSfiLw15B3ce/",
      "include_colab_link": true
    },
    "kernelspec": {
      "name": "python3",
      "display_name": "Python 3"
    },
    "language_info": {
      "name": "python"
    }
  },
  "cells": [
    {
      "cell_type": "markdown",
      "metadata": {
        "id": "view-in-github",
        "colab_type": "text"
      },
      "source": [
        "<a href=\"https://colab.research.google.com/github/hatchdavid1/tensorflow_notes_tests/blob/main/DigitRecognition.ipynb\" target=\"_parent\"><img src=\"https://colab.research.google.com/assets/colab-badge.svg\" alt=\"Open In Colab\"/></a>"
      ]
    },
    {
      "cell_type": "markdown",
      "metadata": {
        "id": "LFNN-EPp_7gA"
      },
      "source": [
        "# Hand written Digit Recognition"
      ]
    },
    {
      "cell_type": "code",
      "metadata": {
        "id": "V06epz6s_0FD"
      },
      "source": [
        "# Main Libraries\n",
        "import keras \n",
        "from keras.datasets import mnist\n",
        "from keras.models import Sequential\n",
        "from keras.layers import Dense, Dropout\n",
        "from keras.optimizers import RMSprop"
      ],
      "execution_count": 3,
      "outputs": []
    },
    {
      "cell_type": "markdown",
      "metadata": {
        "id": "z5NAc0UCAqE6"
      },
      "source": [
        "# Step 1: Load Data"
      ]
    },
    {
      "cell_type": "code",
      "metadata": {
        "colab": {
          "base_uri": "https://localhost:8080/"
        },
        "id": "Ylt30r1kAUMf",
        "outputId": "c7c1587d-8069-4910-971c-e6087a67ab10"
      },
      "source": [
        "# Data shuffled and splitted between train and test\n",
        "(x_train, y_train) , (x_test, y_test) = mnist.load_data()"
      ],
      "execution_count": 4,
      "outputs": [
        {
          "output_type": "stream",
          "text": [
            "Downloading data from https://storage.googleapis.com/tensorflow/tf-keras-datasets/mnist.npz\n",
            "11493376/11490434 [==============================] - 0s 0us/step\n",
            "11501568/11490434 [==============================] - 0s 0us/step\n"
          ],
          "name": "stdout"
        }
      ]
    },
    {
      "cell_type": "markdown",
      "metadata": {
        "id": "GkNep8VRBBvg"
      },
      "source": [
        "# Step 2 and Step 3 Understand and modify data\n",
        "\n",
        "60k list examples. On this list we have a matrix of matrices of 28x28. For a neural network to work properly it need to get the data as a vector, so we're going to reshape these matrices into a 784 lenght. Then we're going to turn values into 0 and 1."
      ]
    },
    {
      "cell_type": "code",
      "metadata": {
        "id": "4sQD8SIEAp0Y"
      },
      "source": [
        ""
      ],
      "execution_count": null,
      "outputs": []
    }
  ]
}