{
  "nbformat": 4,
  "nbformat_minor": 0,
  "metadata": {
    "colab": {
      "name": "DigitRecognition.ipynb",
      "provenance": [],
      "authorship_tag": "ABX9TyM7qosk4GXoNWSnZflVYQhG",
      "include_colab_link": true
    },
    "kernelspec": {
      "name": "python3",
      "display_name": "Python 3"
    },
    "language_info": {
      "name": "python"
    }
  },
  "cells": [
    {
      "cell_type": "markdown",
      "metadata": {
        "id": "view-in-github",
        "colab_type": "text"
      },
      "source": [
        "<a href=\"https://colab.research.google.com/github/hatchdavid1/tensorflow_notes_tests/blob/main/DigitRecognition.ipynb\" target=\"_parent\"><img src=\"https://colab.research.google.com/assets/colab-badge.svg\" alt=\"Open In Colab\"/></a>"
      ]
    },
    {
      "cell_type": "markdown",
      "metadata": {
        "id": "LFNN-EPp_7gA"
      },
      "source": [
        "# Hand written Digit Recognition"
      ]
    },
    {
      "cell_type": "code",
      "metadata": {
        "id": "V06epz6s_0FD"
      },
      "source": [
        "# Main Libraries\n",
        "import keras \n",
        "from keras.datasets import mnist\n",
        "from keras.models import Sequential\n",
        "from keras.layers import Dense, Dropout\n",
        "from keras.optimizers import RMSprop"
      ],
      "execution_count": 3,
      "outputs": []
    },
    {
      "cell_type": "markdown",
      "metadata": {
        "id": "z5NAc0UCAqE6"
      },
      "source": [
        "# Step 1: Load Data"
      ]
    },
    {
      "cell_type": "code",
      "metadata": {
        "colab": {
          "base_uri": "https://localhost:8080/"
        },
        "id": "Ylt30r1kAUMf",
        "outputId": "c7c1587d-8069-4910-971c-e6087a67ab10"
      },
      "source": [
        "# Data shuffled and splitted between train and test\n",
        "(x_train, y_train) , (x_test, y_test) = mnist.load_data()"
      ],
      "execution_count": 4,
      "outputs": [
        {
          "output_type": "stream",
          "text": [
            "Downloading data from https://storage.googleapis.com/tensorflow/tf-keras-datasets/mnist.npz\n",
            "11493376/11490434 [==============================] - 0s 0us/step\n",
            "11501568/11490434 [==============================] - 0s 0us/step\n"
          ],
          "name": "stdout"
        }
      ]
    },
    {
      "cell_type": "markdown",
      "metadata": {
        "id": "GkNep8VRBBvg"
      },
      "source": [
        "# Step 2 and Step 3 Understand and modify data\n",
        "\n",
        "60k list examples. On this list we have a matrix of matrices of 28x28. For a neural network to work properly it need to get the data as a vector, so we're going to reshape these matrices into a 784 lenght. Then we're going to turn values into 0 and 1."
      ]
    },
    {
      "cell_type": "code",
      "metadata": {
        "colab": {
          "base_uri": "https://localhost:8080/"
        },
        "id": "4sQD8SIEAp0Y",
        "outputId": "f4c7cdc4-d12d-45aa-85e6-02e2aeff9052"
      },
      "source": [
        "print(x_train.shape, '\\n', x_test.shape)"
      ],
      "execution_count": 5,
      "outputs": [
        {
          "output_type": "stream",
          "text": [
            "(60000, 28, 28) \n",
            " (10000, 28, 28)\n"
          ],
          "name": "stdout"
        }
      ]
    },
    {
      "cell_type": "code",
      "metadata": {
        "id": "M_oYiwWuICvB"
      },
      "source": [
        "# reshaping data\n",
        "x_train = x_train.reshape(60000, 784)\n",
        "x_test = x_test.reshape(10000, 784)\n",
        "x_train = x_train.astype('float32')\n",
        "x_test = x_test.astype('float32')\n",
        "x_train /= 255\n",
        "x_test /= 255"
      ],
      "execution_count": 7,
      "outputs": []
    },
    {
      "cell_type": "code",
      "metadata": {
        "colab": {
          "base_uri": "https://localhost:8080/"
        },
        "id": "4w8xuTSwInlG",
        "outputId": "74c51498-95a1-4d37-ba49-590eb4b4c4ff"
      },
      "source": [
        "print(x_train.shape,'\\n', x_test.shape)"
      ],
      "execution_count": 8,
      "outputs": [
        {
          "output_type": "stream",
          "text": [
            "(60000, 784) \n",
            " (10000, 784)\n"
          ],
          "name": "stdout"
        }
      ]
    },
    {
      "cell_type": "code",
      "metadata": {
        "id": "tXYugXxsIyd_"
      },
      "source": [
        "# Function to show a digit\n",
        "import matplotlib.pyplot as plt\n",
        "%matplotlib inline\n",
        "def show_digit(index):\n",
        "  label = y_train[index].argmax(axis = 0)\n",
        "  image = x_train[index].reshape([28,28])\n",
        "  plt.title('Training data. Label: {} '.format(label))\n",
        "  plt.imshow(image, cmap='gray_r')\n",
        "  plt.show()"
      ],
      "execution_count": 9,
      "outputs": []
    },
    {
      "cell_type": "code",
      "metadata": {
        "colab": {
          "base_uri": "https://localhost:8080/",
          "height": 281
        },
        "id": "SRnCm__SJbLo",
        "outputId": "f32fb808-fa80-463b-cca7-eed3aa8ceef8"
      },
      "source": [
        "show_digit(0)"
      ],
      "execution_count": 10,
      "outputs": [
        {
          "output_type": "display_data",
          "data": {
            "image/png": "[encoded data removed]",
            "text/plain": [
              "<Figure size 432x288 with 1 Axes>"
            ]
          },
          "metadata": {
            "tags": [],
            "needs_background": "light"
          }
        }
      ]
    },
    {
      "cell_type": "markdown",
      "metadata": {
        "id": "y_Gom_nWJkxS"
      },
      "source": [
        "# One hot encoding\n",
        "Apply one hot encoding using keras.utils.to_categorical method to convert 'y_train' and 'y_test' in 10 value vectors instead of a single value"
      ]
    },
    {
      "cell_type": "code",
      "metadata": {
        "id": "Rk9-EtF2Jg9U"
      },
      "source": [
        ""
      ],
      "execution_count": null,
      "outputs": []
    }
  ]
}