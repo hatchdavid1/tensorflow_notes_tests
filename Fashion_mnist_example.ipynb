{
  "nbformat": 4,
  "nbformat_minor": 0,
  "metadata": {
    "colab": {
      "name": "Fashion_mnist_example.ipynb",
      "provenance": [],
      "collapsed_sections": [],
      "authorship_tag": "ABX9TyNOQ0xpRSIYgXTiePadGmi5",
      "include_colab_link": true
    },
    "kernelspec": {
      "name": "python3",
      "display_name": "Python 3"
    },
    "language_info": {
      "name": "python"
    }
  },
  "cells": [
    {
      "cell_type": "markdown",
      "metadata": {
        "id": "view-in-github",
        "colab_type": "text"
      },
      "source": [
        "<a href=\"https://colab.research.google.com/github/hatchdavid1/tensorflow_notes_tests/blob/main/Fashion_mnist_example.ipynb\" target=\"_parent\"><img src=\"https://colab.research.google.com/assets/colab-badge.svg\" alt=\"Open In Colab\"/></a>"
      ]
    },
    {
      "cell_type": "markdown",
      "metadata": {
        "id": "rrCnxDfEcTCD"
      },
      "source": [
        "# Beyond Hello World, a Computer Vision Example\n",
        " In the previous exercise you saw how to create a neural network that figured out the problem we're trying to solve. This gave an explicit example of learned behavior. Of course, in that instance, it was a bit of overkill because it would have been easier to write the function Y = 2x-1 directly, instead of bothering with using Machine Learning to learn the relationship between X and Y for a fixed set of values, and extending that for all values. \n",
        "\n",
        " But what about a scenario where writting rules that is much more difficult -- for example a computer vision problem ? Let's take a look at a scenario where we can recognize different items of clothing, trained from a dataset containing 10 different types"
      ]
    },
    {
      "cell_type": "markdown",
      "metadata": {
        "id": "HvZpKUBbdX8_"
      },
      "source": [
        "# Start Coding \n",
        "Let's start with out import of Tensorflow"
      ]
    },
    {
      "cell_type": "code",
      "metadata": {
        "colab": {
          "base_uri": "https://localhost:8080/"
        },
        "id": "vxnbJMPZcMzv",
        "outputId": "2ff6feb8-f21c-48eb-d360-409cc37e5e7a"
      },
      "source": [
        "import tensorflow as tf \n",
        "print(tf.__version__)"
      ],
      "execution_count": 1,
      "outputs": [
        {
          "output_type": "stream",
          "text": [
            "2.5.0\n"
          ],
          "name": "stdout"
        }
      ]
    },
    {
      "cell_type": "code",
      "metadata": {
        "colab": {
          "base_uri": "https://localhost:8080/"
        },
        "id": "C96LYMagdlEi",
        "outputId": "3fab3070-d41b-40a1-c2c7-a9320b671796"
      },
      "source": [
        "# Fashion MNIST data is available directly in the tf.keras dataset API. You load data like this:\n",
        "mnist = tf.keras.datasets.fashion_mnist\n",
        "# Calling load_data on this object will give you two sets of two list, these will be the training and testing values of the graphics that contain the clothing items and their labels\n",
        "(training_images, training_labels), (test_images, test_labels) = mnist.load_data()"
      ],
      "execution_count": 2,
      "outputs": [
        {
          "output_type": "stream",
          "text": [
            "Downloading data from https://storage.googleapis.com/tensorflow/tf-keras-datasets/train-labels-idx1-ubyte.gz\n",
            "32768/29515 [=================================] - 0s 0us/step\n",
            "Downloading data from https://storage.googleapis.com/tensorflow/tf-keras-datasets/train-images-idx3-ubyte.gz\n",
            "26427392/26421880 [==============================] - 0s 0us/step\n",
            "Downloading data from https://storage.googleapis.com/tensorflow/tf-keras-datasets/t10k-labels-idx1-ubyte.gz\n",
            "8192/5148 [===============================================] - 0s 0us/step\n",
            "Downloading data from https://storage.googleapis.com/tensorflow/tf-keras-datasets/t10k-images-idx3-ubyte.gz\n",
            "4423680/4422102 [==============================] - 0s 0us/step\n"
          ],
          "name": "stdout"
        }
      ]
    },
    {
      "cell_type": "code",
      "metadata": {
        "colab": {
          "base_uri": "https://localhost:8080/",
          "height": 1000
        },
        "id": "INkI3lYqehH2",
        "outputId": "22524e98-ae5d-49d6-cd7a-41439638d0fc"
      },
      "source": [
        "import matplotlib.pyplot as plt\n",
        "plt.imshow(training_images[0])\n",
        "print(training_labels[0], '\\n', training_images[0])"
      ],
      "execution_count": 3,
      "outputs": [
        {
          "output_type": "stream",
          "text": [
            "9 \n",
            " [[  0   0   0   0   0   0   0   0   0   0   0   0   0   0   0   0   0   0\n",
            "    0   0   0   0   0   0   0   0   0   0]\n",
            " [  0   0   0   0   0   0   0   0   0   0   0   0   0   0   0   0   0   0\n",
            "    0   0   0   0   0   0   0   0   0   0]\n",
            " [  0   0   0   0   0   0   0   0   0   0   0   0   0   0   0   0   0   0\n",
            "    0   0   0   0   0   0   0   0   0   0]\n",
            " [  0   0   0   0   0   0   0   0   0   0   0   0   1   0   0  13  73   0\n",
            "    0   1   4   0   0   0   0   1   1   0]\n",
            " [  0   0   0   0   0   0   0   0   0   0   0   0   3   0  36 136 127  62\n",
            "   54   0   0   0   1   3   4   0   0   3]\n",
            " [  0   0   0   0   0   0   0   0   0   0   0   0   6   0 102 204 176 134\n",
            "  144 123  23   0   0   0   0  12  10   0]\n",
            " [  0   0   0   0   0   0   0   0   0   0   0   0   0   0 155 236 207 178\n",
            "  107 156 161 109  64  23  77 130  72  15]\n",
            " [  0   0   0   0   0   0   0   0   0   0   0   1   0  69 207 223 218 216\n",
            "  216 163 127 121 122 146 141  88 172  66]\n",
            " [  0   0   0   0   0   0   0   0   0   1   1   1   0 200 232 232 233 229\n",
            "  223 223 215 213 164 127 123 196 229   0]\n",
            " [  0   0   0   0   0   0   0   0   0   0   0   0   0 183 225 216 223 228\n",
            "  235 227 224 222 224 221 223 245 173   0]\n",
            " [  0   0   0   0   0   0   0   0   0   0   0   0   0 193 228 218 213 198\n",
            "  180 212 210 211 213 223 220 243 202   0]\n",
            " [  0   0   0   0   0   0   0   0   0   1   3   0  12 219 220 212 218 192\n",
            "  169 227 208 218 224 212 226 197 209  52]\n",
            " [  0   0   0   0   0   0   0   0   0   0   6   0  99 244 222 220 218 203\n",
            "  198 221 215 213 222 220 245 119 167  56]\n",
            " [  0   0   0   0   0   0   0   0   0   4   0   0  55 236 228 230 228 240\n",
            "  232 213 218 223 234 217 217 209  92   0]\n",
            " [  0   0   1   4   6   7   2   0   0   0   0   0 237 226 217 223 222 219\n",
            "  222 221 216 223 229 215 218 255  77   0]\n",
            " [  0   3   0   0   0   0   0   0   0  62 145 204 228 207 213 221 218 208\n",
            "  211 218 224 223 219 215 224 244 159   0]\n",
            " [  0   0   0   0  18  44  82 107 189 228 220 222 217 226 200 205 211 230\n",
            "  224 234 176 188 250 248 233 238 215   0]\n",
            " [  0  57 187 208 224 221 224 208 204 214 208 209 200 159 245 193 206 223\n",
            "  255 255 221 234 221 211 220 232 246   0]\n",
            " [  3 202 228 224 221 211 211 214 205 205 205 220 240  80 150 255 229 221\n",
            "  188 154 191 210 204 209 222 228 225   0]\n",
            " [ 98 233 198 210 222 229 229 234 249 220 194 215 217 241  65  73 106 117\n",
            "  168 219 221 215 217 223 223 224 229  29]\n",
            " [ 75 204 212 204 193 205 211 225 216 185 197 206 198 213 240 195 227 245\n",
            "  239 223 218 212 209 222 220 221 230  67]\n",
            " [ 48 203 183 194 213 197 185 190 194 192 202 214 219 221 220 236 225 216\n",
            "  199 206 186 181 177 172 181 205 206 115]\n",
            " [  0 122 219 193 179 171 183 196 204 210 213 207 211 210 200 196 194 191\n",
            "  195 191 198 192 176 156 167 177 210  92]\n",
            " [  0   0  74 189 212 191 175 172 175 181 185 188 189 188 193 198 204 209\n",
            "  210 210 211 188 188 194 192 216 170   0]\n",
            " [  2   0   0   0  66 200 222 237 239 242 246 243 244 221 220 193 191 179\n",
            "  182 182 181 176 166 168  99  58   0   0]\n",
            " [  0   0   0   0   0   0   0  40  61  44  72  41  35   0   0   0   0   0\n",
            "    0   0   0   0   0   0   0   0   0   0]\n",
            " [  0   0   0   0   0   0   0   0   0   0   0   0   0   0   0   0   0   0\n",
            "    0   0   0   0   0   0   0   0   0   0]\n",
            " [  0   0   0   0   0   0   0   0   0   0   0   0   0   0   0   0   0   0\n",
            "    0   0   0   0   0   0   0   0   0   0]]\n"
          ],
          "name": "stdout"
        },
        {
          "output_type": "display_data",
          "data": {
            "image/png": "[encoded data removed]",
            "text/plain": [
              "<Figure size 432x288 with 1 Axes>"
            ]
          },
          "metadata": {
            "tags": [],
            "needs_background": "light"
          }
        }
      ]
    },
    {
      "cell_type": "markdown",
      "metadata": {
        "id": "ulSgXG1kHWG-"
      },
      "source": [
        "You will notice that all of the values in the number are between 0 1n 255. If we are training neural networl, for various reasons it's easier if we treat all values as between 0 and 1, a process called 'noramlizing' and fortunately in Python it's easy to normalize a list like this without looping. You do it like this:"
      ]
    },
    {
      "cell_type": "code",
      "metadata": {
        "id": "FwKxFh1AeyZK"
      },
      "source": [
        "training_images = training_images / 255.0\n",
        "test_images = test_images / 255.0"
      ],
      "execution_count": 4,
      "outputs": []
    },
    {
      "cell_type": "markdown",
      "metadata": {
        "id": "6WRLHSQNIOPh"
      },
      "source": [
        "Now you might be wondering why there are 2 sets.. training abd testing -- remember we spoke about this in the intro ? \n",
        "The idea is to have 1 set of data for training, and then another set of data... that the model hasn't yet seen... to see how good it would be at classifying values. After all, when you're donde, you're going to want to try it out with data that it hadn't previously seen. \n",
        "Let's now design the model. There's quite a few new concepts here, but don't worry, you will get the hang on them. "
      ]
    },
    {
      "cell_type": "code",
      "metadata": {
        "id": "qDhn311gIGwj"
      },
      "source": [
        "# Sequential model with specific layers\n",
        "model  = tf.keras.models.Sequential([tf.keras.layers.Flatten(), \n",
        "                                   tf.keras.layers.Dense(128, activation = tf.nn.relu), \n",
        "                                   tf.keras.layers.Dense(10, activation= tf.nn.softmax)])"
      ],
      "execution_count": 7,
      "outputs": []
    },
    {
      "cell_type": "markdown",
      "metadata": {
        "id": "ivgPV80cJwcD"
      },
      "source": [
        "**Sequential** : That defines a Sequence of layers in the neural network\n",
        "\n",
        "**Flatten** : Rememeber earlier where our images where a square, when you printed them out ? Flatten just takes that square and turns into a 1 dimensional set. \n",
        "\n",
        "**Dense** : Adds layers of neurons\n",
        "\n",
        "Each layer of neurons need and **activation function** to tell them what to do. There's a lots of options, but just use these for now. \n",
        "\n",
        "**Relu** : efectively means 'if X>0, else retunr 0' -- so what it does it only passes values 0 or greater to the next layer in the network \n",
        "\n",
        "**Softmax** : takes a set of values, and effectively picks the biggest one, so for example, if the output of the layers looks like [.1,.1,.05,.1,9.05,.1,.05], it saves you from fishing through it looking for the biggest value, and turns into [0,0,0,0,1,0,0,0] -- The goal is to save a lot of coding \n",
        "\n",
        "The next thing to do, now the model is defined, is to acctually build it. Ypu do this by compiling it with an optimizer and loss function as before -- and then you train it by calling model.fit asking it to fit your training data to your training labels -- i.e. have it figure out the relationshipp between the triaing data and its actual labels, so in the future if you have data that looks like the training data, then it can make a prediction for what that data would look like. "
      ]
    },
    {
      "cell_type": "code",
      "metadata": {
        "colab": {
          "base_uri": "https://localhost:8080/"
        },
        "id": "ennqFGZaJdik",
        "outputId": "ab9cd5d0-6d7b-4478-df82-23273120dd09"
      },
      "source": [
        "# Compiling model with an Optimizer \n",
        "model.compile(optimizer= 'Adam', # in case it's an older version = tf.train.AdamOptimizer() | tf.train.Adam()\n",
        "              loss = 'sparse_categorical_crossentropy', \n",
        "              metrics= ['accuracy'])\n",
        "\n",
        "# Fitting model \n",
        "model.fit(training_images, training_labels, epochs = 7)"
      ],
      "execution_count": 10,
      "outputs": [
        {
          "output_type": "stream",
          "text": [
            "Epoch 1/7\n",
            "1875/1875 [==============================] - 5s 2ms/step - loss: 0.4969 - accuracy: 0.8246\n",
            "Epoch 2/7\n",
            "1875/1875 [==============================] - 4s 2ms/step - loss: 0.3767 - accuracy: 0.8647\n",
            "Epoch 3/7\n",
            "1875/1875 [==============================] - 4s 2ms/step - loss: 0.3362 - accuracy: 0.8771\n",
            "Epoch 4/7\n",
            "1875/1875 [==============================] - 4s 2ms/step - loss: 0.3119 - accuracy: 0.8856\n",
            "Epoch 5/7\n",
            "1875/1875 [==============================] - 4s 2ms/step - loss: 0.2954 - accuracy: 0.8903\n",
            "Epoch 6/7\n",
            "1875/1875 [==============================] - 4s 2ms/step - loss: 0.2814 - accuracy: 0.8956\n",
            "Epoch 7/7\n",
            "1875/1875 [==============================] - 4s 2ms/step - loss: 0.2682 - accuracy: 0.8996\n"
          ],
          "name": "stdout"
        },
        {
          "output_type": "execute_result",
          "data": {
            "text/plain": [
              "<tensorflow.python.keras.callbacks.History at 0x7f7528343fd0>"
            ]
          },
          "metadata": {
            "tags": []
          },
          "execution_count": 10
        }
      ]
    },
    {
      "cell_type": "markdown",
      "metadata": {
        "id": "8Ju9vjOlOeDe"
      },
      "source": [
        "Once it's done training -- you should see an accuracy value at the end of the final epoch. It might look something like .9098. This tells you that your nerural network is abiut 91% accurate in classifying the training the data. I.E. if figured out a pattern match between the image and the labels that worked 91% of the time. Not great, but not bad considering it was only trained for 5 epochs and done quite quickly. \n",
        "\n",
        "But how would it work with the unseen data? That's why we have the test images. We can call mdeol.evaluate, and pass in the two sets, and it will report back the loss for each. Let's give it a try: "
      ]
    },
    {
      "cell_type": "code",
      "metadata": {
        "colab": {
          "base_uri": "https://localhost:8080/"
        },
        "id": "oQoTXTEbMZ7e",
        "outputId": "b139187c-048b-4828-d292-11829a8cc01e"
      },
      "source": [
        "model.evaluate(test_images, test_labels)"
      ],
      "execution_count": 11,
      "outputs": [
        {
          "output_type": "stream",
          "text": [
            "313/313 [==============================] - 1s 1ms/step - loss: 0.3479 - accuracy: 0.8757\n"
          ],
          "name": "stdout"
        },
        {
          "output_type": "execute_result",
          "data": {
            "text/plain": [
              "[0.3479054570198059, 0.8756999969482422]"
            ]
          },
          "metadata": {
            "tags": []
          },
          "execution_count": 11
        }
      ]
    },
    {
      "cell_type": "markdown",
      "metadata": {
        "id": "0m9hkyHoRL9H"
      },
      "source": [
        "# Exploration Exercises \n",
        "\n",
        " # Exercise 1: \n",
        "\n",
        " For this first exercise  run the below code: It creates a set of classification for each of the test images, and then prints the first entry in the classification. The output, after you run it is a list of numbers. Why do you think  this is, and what do those numbers represent ? "
      ]
    },
    {
      "cell_type": "code",
      "metadata": {
        "colab": {
          "base_uri": "https://localhost:8080/"
        },
        "id": "vv__lKuCPgqd",
        "outputId": "5c8fb132-65d7-4b47-f68a-e154dca72ee7"
      },
      "source": [
        "classifications = model.predict(test_images)\n",
        "print(classifications[0])"
      ],
      "execution_count": 12,
      "outputs": [
        {
          "output_type": "stream",
          "text": [
            "[9.0112508e-06 3.0635561e-10 9.4763770e-08 4.8927268e-11 3.7606062e-06\n",
            " 1.2743649e-02 4.4110579e-06 2.1113729e-02 7.4953532e-06 9.6611786e-01]\n"
          ],
          "name": "stdout"
        }
      ]
    },
    {
      "cell_type": "code",
      "metadata": {
        "colab": {
          "base_uri": "https://localhost:8080/"
        },
        "id": "3WAOJNImSFOD",
        "outputId": "318309c0-abf2-42c7-cfb7-a94a57358315"
      },
      "source": [
        "# Hint try running print(test_labels[0]) -- and you'll get a 9. Does that help you understand why this list looks the way it does ? \n",
        "print(test_labels[0])"
      ],
      "execution_count": 13,
      "outputs": [
        {
          "output_type": "stream",
          "text": [
            "9\n"
          ],
          "name": "stdout"
        }
      ]
    },
    {
      "cell_type": "markdown",
      "metadata": {
        "id": "ttg_9ZWxSeVI"
      },
      "source": [
        "**What does this list represent ?** \n",
        "1.- It's a 10 random meaningless values \n",
        "2.- It's the first 10 classification that the computer made \n",
        "3.- It's the probability that this item is each of the 10 classes \n",
        "\n",
        " **Answer** \n",
        " The correct answer is 3\n",
        " The ouput of the model is a list of 10 numbers. These numbers are a probability that the value being classified is the correspodning value, i.e. the fist value in the list is the probability that the handwriting is of a 0 the next is 1 etc. Notice that they are all very low probablities. \n",
        " For the 7, the probabity was .999 i.e. the neural network is telling us that it's almost certainly a 7. \n",
        "\n",
        "**How dou you know that this list tells you that the item is an ankle boot?**\n",
        "\n",
        "1.- There's not enough information to answer that question\n",
        "2.- the 10th element on the list is the biggest, and the ankle boot is labelled 9 \n",
        "3.- The ankle boot is label 9, and there are 0->0 elements on the list \n",
        "\n",
        "**Answer** \n",
        "The correct answer is 2. Both the list and the labels are 0 bases, so the ankle boot having label 9 means that it is the 10th of the 10 classes. the list having the 10th element being the highest value means that the Neural Network has predicted that the item it is classifying is mostly likely an ankel boot\n",
        " \n",
        "# Excercise 2: \n",
        "Let's now look at the layers in your model. Experiment with different values for the dense layer with 512 neurons. What different results do you get for loss, training time etc ? Why do you think that's the case ? "
      ]
    },
    {
      "cell_type": "code",
      "metadata": {
        "id": "mpRIhvLySZmh"
      },
      "source": [
        "######## Note to run next code lines restart kernel so don't train two times the model, or just change varaible names\n",
        "import tensorflow as tf\n",
        "mnist = tf.keras.datasets.mnist\n",
        "#Loading data\n",
        "(training_images, training_labels), (test_images, test_labels) = mnist.load_data()\n",
        "# Normalizing data\n",
        "training_images = training_images / 255.0\n",
        "test_imamges = test_images / 255.0\n",
        "# Building model\n",
        "model = tf.keras.models.Sequential([\n",
        "                                    tf.keras.layers.Flatten(),\n",
        "                                    tf.keras.layers.Dense(1024, activation=tf.nn.relu), \n",
        "                                    tf.keras.layers.Dense(10, activation=tf.nn.softmax)\n",
        "])\n"
      ],
      "execution_count": 3,
      "outputs": []
    },
    {
      "cell_type": "code",
      "metadata": {
        "colab": {
          "base_uri": "https://localhost:8080/"
        },
        "id": "BHFzjR4BYFnE",
        "outputId": "e96f2b0b-f28f-4df5-e048-e565f41d9529"
      },
      "source": [
        "# Optimizing and compiling model \n",
        "model.compile(optimizer = 'adam',\n",
        "              loss = 'sparse_categorical_crossentropy')\n",
        "# Fitting model \n",
        "model.fit(training_images, training_labels, epochs=5)\n",
        "#Evaluatig model\n",
        "model.evaluate(test_images, test_labels)\n",
        "# Predict and classify\n",
        "classifications = model.predict(test_images)\n",
        "\n",
        "print(classifications[0])\n",
        "print(test_labels[0])"
      ],
      "execution_count": 5,
      "outputs": [
        {
          "output_type": "stream",
          "text": [
            "Epoch 1/5\n",
            "1875/1875 [==============================] - 14s 7ms/step - loss: 0.1833\n",
            "Epoch 2/5\n",
            "1875/1875 [==============================] - 14s 7ms/step - loss: 0.0741\n",
            "Epoch 3/5\n",
            "1875/1875 [==============================] - 14s 8ms/step - loss: 0.0473\n",
            "Epoch 4/5\n",
            "1875/1875 [==============================] - 14s 7ms/step - loss: 0.0358\n",
            "Epoch 5/5\n",
            "1875/1875 [==============================] - 14s 7ms/step - loss: 0.0253\n",
            "313/313 [==============================] - 1s 3ms/step - loss: 13.9409\n",
            "[0. 0. 0. 0. 0. 0. 0. 1. 0. 0.]\n",
            "7\n"
          ],
          "name": "stdout"
        }
      ]
    },
    {
      "cell_type": "markdown",
      "metadata": {
        "id": "BT6qRPODZlVq"
      },
      "source": [
        "# Question 1. Increasing to 1024 Neurons -- What the impact? \n",
        "1.- Training takes longer, but is more accurate\n",
        "2.- Training takes longer, but no impact on accuracy\n",
        "3.- Training takes the same time, but is more accurate \n",
        "\n",
        "**Answer** \n",
        "The correct answer is 1 by adding more neurons we have to do more calculations, slowing down the process, but in this case they have a good impact -- we do get more accurate. That doesn't mean it's always a case of 'more is better', you can hit the law of dimishing returns very quickly. \n",
        "\n",
        "# Exercise 3: \n",
        "What would happen if you remove the Flatten() layer. Why do you think that's the case ? \n",
        "\n",
        "You can get an error about the shape of the data. It may seem vague right now, but it reinforces the rule of thumg that the first layer in your network should be the same shape as your data. Right now our data is 28x28 images, and 28 layers of 28 neurons would be infeasible, so it makes more sense to 'flatten' that 28,28 into a 784x1. Instead of writing all the code to handle that ourselves, we add the Flatten() layer at the begining, and when the arrays are loaded into the model later, they'll automatically be flattened for us."
      ]
    },
    {
      "cell_type": "code",
      "metadata": {
        "colab": {
          "base_uri": "https://localhost:8080/"
        },
        "id": "IVndzh34YLh1",
        "outputId": "ae75a4e4-cecf-4290-dc7b-99f9f506ce6d"
      },
      "source": [
        "import tensorflow as tf\n",
        "\n",
        "mnist = tf.keras.datasets.mnist\n",
        "\n",
        "(training_images, training_labels) ,  (test_images, test_labels) = mnist.load_data()\n",
        "\n",
        "training_images = training_images/255.0\n",
        "test_images = test_images/255.0\n",
        "###### Without the Flatten layer it won't run because there's an error on the number of values needed\n",
        "model = tf.keras.models.Sequential([tf.keras.layers.Flatten(),\n",
        "                                    tf.keras.layers.Dense(64, activation=tf.nn.relu),\n",
        "                                    tf.keras.layers.Dense(10, activation=tf.nn.softmax)])\n",
        "\n",
        "model.compile(optimizer = 'adam',\n",
        "              loss = 'sparse_categorical_crossentropy')\n",
        "\n",
        "model.fit(training_images, training_labels, epochs=5)\n",
        "\n",
        "model.evaluate(test_images, test_labels)\n",
        "\n",
        "classifications = model.predict(test_images)\n",
        "\n",
        "print(classifications[0], '\\n', test_labels[0])\n"
      ],
      "execution_count": 3,
      "outputs": [
        {
          "output_type": "stream",
          "text": [
            "Epoch 1/5\n",
            "1875/1875 [==============================] - 4s 2ms/step - loss: 0.3043\n",
            "Epoch 2/5\n",
            "1875/1875 [==============================] - 3s 2ms/step - loss: 0.1485\n",
            "Epoch 3/5\n",
            "1875/1875 [==============================] - 3s 2ms/step - loss: 0.1075\n",
            "Epoch 4/5\n",
            "1875/1875 [==============================] - 3s 2ms/step - loss: 0.0857\n",
            "Epoch 5/5\n",
            "1875/1875 [==============================] - 3s 2ms/step - loss: 0.0693\n",
            "313/313 [==============================] - 0s 1ms/step - loss: 0.0861\n",
            "[3.3445829e-07 1.5682316e-08 4.3923164e-06 4.3433727e-04 3.9768708e-10\n",
            " 1.1291047e-06 7.4427894e-11 9.9953043e-01 7.0359383e-06 2.2248556e-05] \n",
            " 7\n"
          ],
          "name": "stdout"
        }
      ]
    },
    {
      "cell_type": "code",
      "metadata": {
        "id": "o1FBXCsSTa29"
      },
      "source": [
        ""
      ],
      "execution_count": null,
      "outputs": []
    }
  ]
}