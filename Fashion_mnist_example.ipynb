{
  "nbformat": 4,
  "nbformat_minor": 0,
  "metadata": {
    "colab": {
      "name": "Fashion_mnist_example.ipynb",
      "provenance": [],
      "authorship_tag": "ABX9TyPIF1UySFU24xtU36QVmxGS",
      "include_colab_link": true
    },
    "kernelspec": {
      "name": "python3",
      "display_name": "Python 3"
    },
    "language_info": {
      "name": "python"
    }
  },
  "cells": [
    {
      "cell_type": "markdown",
      "metadata": {
        "id": "view-in-github",
        "colab_type": "text"
      },
      "source": [
        "<a href=\"https://colab.research.google.com/github/hatchdavid1/tensorflow_notes_tests/blob/main/Fashion_mnist_example.ipynb\" target=\"_parent\"><img src=\"https://colab.research.google.com/assets/colab-badge.svg\" alt=\"Open In Colab\"/></a>"
      ]
    },
    {
      "cell_type": "markdown",
      "metadata": {
        "id": "rrCnxDfEcTCD"
      },
      "source": [
        "# Beyond Hello World, a Computer Vision Example\n",
        " In the previous exercise you saw how to create a neural network that figured out the problem we're trying to solve. This gave an explicit example of learned behavior. Of course, in that instance, it was a bit of overkill because it would have been easier to write the function Y = 2x-1 directly, instead of bothering with using Machine Learning to learn the relationship between X and Y for a fixed set of values, and extending that for all values. \n",
        "\n",
        " But what about a scenario where writting rules that is much more difficult -- for example a computer vision problem ? Let's take a look at a scenario where we can recognize different items of clothing, trained from a dataset containing 10 different types"
      ]
    },
    {
      "cell_type": "markdown",
      "metadata": {
        "id": "HvZpKUBbdX8_"
      },
      "source": [
        "# Start Coding \n",
        "Let's start with out import of Tensorflow"
      ]
    },
    {
      "cell_type": "code",
      "metadata": {
        "colab": {
          "base_uri": "https://localhost:8080/"
        },
        "id": "vxnbJMPZcMzv",
        "outputId": "a45abc59-e47f-42cc-b727-2ea8b8e1be15"
      },
      "source": [
        "import tensorflow as tf \n",
        "print(tf.__version__)"
      ],
      "execution_count": 2,
      "outputs": [
        {
          "output_type": "stream",
          "text": [
            "2.5.0\n"
          ],
          "name": "stdout"
        }
      ]
    },
    {
      "cell_type": "code",
      "metadata": {
        "id": "C96LYMagdlEi"
      },
      "source": [
        ""
      ],
      "execution_count": null,
      "outputs": []
    }
  ]
}